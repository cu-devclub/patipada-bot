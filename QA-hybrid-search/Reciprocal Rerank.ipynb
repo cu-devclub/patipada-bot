{
 "cells": [
  {
   "cell_type": "code",
   "execution_count": 2,
   "id": "a85e0a6f-ff54-4773-9716-a44b1efd5457",
   "metadata": {},
   "outputs": [],
   "source": [
    "import os\n",
    "import openai\n",
    "\n",
    "%set_env os.environ[\"OPENAI_API_KEY\"] = \"key\"\n",
    "openai.api_key = os.environ[\"OPENAI_API_KEY\"]"
   ]
  },
  {
   "cell_type": "code",
   "execution_count": 1,
   "id": "c5e6bb74-7c34-4603-a958-99d29b23c144",
   "metadata": {},
   "outputs": [
    {
     "name": "stderr",
     "output_type": "stream",
     "text": [
      "C:\\Users\\sukpi\\anaconda3\\envs\\monkbot001\\Lib\\site-packages\\tqdm\\auto.py:21: TqdmWarning: IProgress not found. Please update jupyter and ipywidgets. See https://ipywidgets.readthedocs.io/en/stable/user_install.html\n",
      "  from .autonotebook import tqdm as notebook_tqdm\n"
     ]
    }
   ],
   "source": [
    "from llama_index.core import StorageContext,load_index_from_storage\n",
    "from llama_index.embeddings.huggingface import HuggingFaceEmbedding\n",
    "\n",
    "from llama_index.retrievers.bm25 import BM25Retriever\n",
    "\n",
    "import nest_asyncio\n",
    "nest_asyncio.apply()\n",
    "\n",
    "embed_model = HuggingFaceEmbedding(model_name=\"intfloat/multilingual-e5-large\",device='cpu')\n",
    "\n",
    "load_index = load_index_from_storage(StorageContext.from_defaults(persist_dir='./localvecstore/'),embed_model=embed_model)"
   ]
  },
  {
   "cell_type": "code",
   "execution_count": 4,
   "id": "4617f9f6-e7c1-4700-8521-c634f191b769",
   "metadata": {},
   "outputs": [],
   "source": [
    "vector_retriever = load_index.as_retriever(similarity_top_k=5)\n",
    "\n",
    "bm25_retriever = BM25Retriever.from_defaults(\n",
    "    docstore=load_index.docstore, similarity_top_k=10\n",
    ")"
   ]
  },
  {
   "cell_type": "code",
   "execution_count": 5,
   "id": "34265dc5-dddf-47da-ad11-b8e297adeacb",
   "metadata": {},
   "outputs": [],
   "source": [
    "from llama_index.core.retrievers import QueryFusionRetriever\n",
    "\n",
    "retriever = QueryFusionRetriever(\n",
    "    [vector_retriever, bm25_retriever],\n",
    "    retriever_weights=[0.7, 0.3],\n",
    "    similarity_top_k=10,\n",
    "    num_queries=1,  # set this to 1 to disable query generation\n",
    "    mode=\"relative_score\",\n",
    "    use_async=True,\n",
    "    verbose=True,\n",
    ")"
   ]
  },
  {
   "cell_type": "code",
   "execution_count": 8,
   "id": "9186e36a-0112-4117-91df-d70909d1a263",
   "metadata": {},
   "outputs": [],
   "source": [
    "nodes_with_scores = retriever.retrieve(\n",
    "    \"การทำบุญ\"\n",
    ")"
   ]
  },
  {
   "cell_type": "code",
   "execution_count": 9,
   "id": "fb1f9217-9cf6-48bc-8cca-659cc57ac18a",
   "metadata": {},
   "outputs": [
    {
     "name": "stdout",
     "output_type": "stream",
     "text": [
      "Score: 1.00 - การทำบุญให้คนที่เสียชีวิตหมดเป็นจำนวนเยอะเขาจะได้บุญไหม...\n",
      "-----\n",
      "Score: 0.73 - ทําบุญ กับทําทานต่างกันยังไง? ...\n",
      "-----\n",
      "Score: 0.61 - การบวชปฏิบัติ...\n",
      "-----\n",
      "Score: 0.57 - ทําบุญอะไรไปสวรรค์ชั้นต่างต่าง...\n",
      "-----\n",
      "Score: 0.24 - การทำบุญถวายสังฆทานแล้วคิดว่าอยากได้มีของทำบุญมากมาก ต้องมีเจ้าอาวาสมารับ ต้องได้นั่งแถวหน้า ต้องเป็...\n",
      "-----\n",
      "Score: 0.14 - การทำบุญด้วยวิธีใด หรือสิ่งใดที่จะส่งผลบุญกุศลได้ดีให้กับมารดาที่เสียชีวิตไปแล้วให้ได้ดีที่สุด...\n",
      "-----\n",
      "Score: 0.10 - ถ้าถวายสังฆทานแล้วพระไม่ได้ใช้ เรายังจะได้บุญ 100% ไหมคะ...\n",
      "-----\n",
      "Score: 0.09 - ได้ยินเสียงเปรตมาขอส่วนบุญต้องทําอย่างไรเขาถึงจะได้รับบุญ ...\n",
      "-----\n",
      "Score: 0.03 - รื่องการคิดบุญ แล้วก็คาดหวังเหมือนกันว่าจะให้ญาติได้บุญนี้นะครับ เป็นการยึดติดอะไร...\n",
      "-----\n",
      "Score: 0.01 - ถ้างั้นเวลาเราทําบุญ คําอธิษฐานที่พระอาจารย์แนะนําว่าเป็นคําอธิษฐานเพื่อกุศลของตนที่ฉลาดที่สุด น่าจะ...\n",
      "-----\n"
     ]
    }
   ],
   "source": [
    "for node in nodes_with_scores:\n",
    "    print(f\"Score: {node.score:.2f} - {node.text[:100]}...\\n-----\")"
   ]
  },
  {
   "cell_type": "code",
   "execution_count": null,
   "id": "aab6731b-3474-49af-adec-c17047a665c5",
   "metadata": {},
   "outputs": [],
   "source": []
  }
 ],
 "metadata": {
  "kernelspec": {
   "display_name": "Python 3 (ipykernel)",
   "language": "python",
   "name": "python3"
  },
  "language_info": {
   "codemirror_mode": {
    "name": "ipython",
    "version": 3
   },
   "file_extension": ".py",
   "mimetype": "text/x-python",
   "name": "python",
   "nbconvert_exporter": "python",
   "pygments_lexer": "ipython3",
   "version": "3.12.2"
  }
 },
 "nbformat": 4,
 "nbformat_minor": 5
}
