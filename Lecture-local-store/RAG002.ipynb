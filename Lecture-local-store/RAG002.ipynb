{
 "cells": [
  {
   "cell_type": "code",
   "execution_count": 3,
   "id": "72ebcb56-c55c-4ea1-98d9-06501fc17d71",
   "metadata": {},
   "outputs": [
    {
     "name": "stdout",
     "output_type": "stream",
     "text": [
      "[Document(id_='413325e1-5eac-4c9c-9611-f6682fd3d219', embedding=None, metadata={'filename': 'demo.txt', 'extension': '.txt'}, excluded_embed_metadata_keys=[], excluded_llm_metadata_keys=[], relationships={}, text='เครื่องสักการะเครื่องบูชาใครไปนั่งตรงนั้นก็ได้รับการสักการะบูชา เพราะว่าผู้แสดงธรรมเป็นผู้ที่ควรแก่สักการะบูชา ที่เรียกว่าอุเทสิกเจดีย์เค้าเรียกว่าเป็นสิ่งที่ควรค่า ไม่ได้ว่าจะเป็นเฉพาะพระภิกษุนะฆราวาสเองก็ตาม ถ้าเขาจัดตั้งการบูชาไว้ก็คือต้องการบูชาอุเทสิกเจดีย์\\nอุเทสิกเจดีย์ตัวนี้ไม่มีวัตถุปรากฏ แต่เป็นสิ่งที่เนื่องด้วยพระตถาคต คำว่าสิ่งที่เนื่องด้วยพระตถาคตคือการแสดงธรรม เพราะอุเทสิกมีความหมายว่าการยกขึ้น แสดงอะไรก็ตามที่เป็นการยกขึ้น แสดงขึ้นมาให้ได้ทราบถึงความเป็นพระสัมมาสัมพุทธะ ทางด้านไตรรัตน์ไตรลักษณ์ ก็คือพระรัตนตรัยเนี่ย พระพุทธ พระธรรม พระสงฆ์ ก็ถือว่าเป็นการบูชาพระรัตนตรัยนั่นเอง เป็นการบูชาพระธรรมด้วย บูชาพระรัตนตรัยด้วยแล้วก็บูชาบุคคลผู้แสดงธรรมด้วย ก็ได้ทั้งหมดในการกระทำการบูชา\\nแต่ทีนี้ข้อมูลของคำว่าอุเทสิกเจดีย์ถูกเปลี่ยนแปลงในระบบการศึกษาไทย ก็อุเทสิกเจดีย์เขาบอกก็คือพระพุทธรูปซึ่งในข้อที่พระเจ้าตรัสไว้กับพระอานนท์ พระองค์ตรัสว่าอุเทสิกเจดีย์ไม่ใช่วัตถุ ไม่มีวัตถุและก็ไม่เป็นวัตถุ และไม่มีวัตถุใดๆที่จะปรากฏแสดงออกมาให้ทราบ แต่อะไรก็ตามที่เนื่องด้วยพระตถาคตที่ไม่ใช่วัตถุ แต่เนื่องด้วยตถาคตพระพุทธเจ้าว่าอันนั้นแหละว่าอุเทสิกเจดีย์', start_char_idx=None, end_char_idx=None, text_template='{metadata_str}\\n\\n{content}', metadata_template='{key}: {value}', metadata_seperator='\\n')]\n",
      "[TextNode(id_='d1468f85-4634-45c7-adf2-def3f6ec09b5', embedding=None, metadata={'filename': 'demo.txt', 'extension': '.txt'}, excluded_embed_metadata_keys=[], excluded_llm_metadata_keys=[], relationships={<NodeRelationship.SOURCE: '1'>: RelatedNodeInfo(node_id='413325e1-5eac-4c9c-9611-f6682fd3d219', node_type=<ObjectType.DOCUMENT: '4'>, metadata={'filename': 'demo.txt', 'extension': '.txt'}, hash='b47a10042847bd1880a5b69b095a17b83d9707fd153db86c92059e4cd907304e')}, text='เครื่องสักการะเครื่องบูชาใครไปนั่งตรงนั้นก็ได้รับการสักการะบูชา เพราะว่าผู้แสดงธรรมเป็นผู้ที่ควรแก่สักการะบูชา ที่เรียกว่าอุเทสิกเจดีย์เค้าเรียกว่าเป็นสิ่งที่ควรค่า ไม่ได้ว่าจะเป็นเฉพาะพระภิกษุนะฆราวาสเองก็ตาม ถ้าเขาจัดตั้งการบูชาไว้ก็คือต้องการบูชาอุเทสิกเจดีย์\\nอุเทสิกเจดีย์ตัวนี้ไม่มีวัตถุปรากฏ แต่เป็นสิ่งที่เนื่องด้วยพระตถาคต คำว่าสิ่งที่เนื่องด้วยพระตถาคตคือการแสดงธรรม เพราะอุเทสิกมีความหมายว่าการยกขึ้น แสดงอะไรก็ตามที่เป็นการยกขึ้น แสดงขึ้นมาให้ได้ทราบถึงความเป็นพระสัมมาสัมพุทธะ ทางด้านไตรรัตน์ไตรลักษณ์ ก็คือพระรัตนตรัยเนี่ย พระพุทธ พระธรรม พระสงฆ์ ก็ถือว่าเป็นการบูชาพระรัตนตรัยนั่นเอง เป็นการบูชาพระธรรมด้วย บูชาพระรัตนตรัยด้วยแล้วก็บูชาบุคคลผู้แสดงธรรมด้วย ก็ได้ทั้งหมดในการกระทำการบูชา\\nแต่ทีนี้ข้อมูลของคำว่าอุเทสิกเจดีย์ถูกเปลี่ยนแปลงในระบบการศึกษาไทย ก็อุเทสิกเจดีย์เขาบอกก็คือพระพุทธรูปซึ่งในข้อที่พระเจ้าตรัสไว้กับพระอานนท์ พระองค์ตรัสว่าอุเทสิกเจดีย์ไม่ใช่วัตถุ ไม่มีวัตถุและก็ไม่เป็นวัตถุ และไม่มีวัตถุใดๆที่จะปรากฏแสดงออกมาให้ทราบ แต่อะไรก็ตามที่เนื่องด้วยพระตถาคตที่ไม่ใช่วัตถุ แต่เนื่องด้วยตถาคตพระพุทธเจ้าว่าอันนั้นแหละว่าอุเทสิกเจดีย์', start_char_idx=0, end_char_idx=1060, text_template='{metadata_str}\\n\\n{content}', metadata_template='{key}: {value}', metadata_seperator='\\n')]\n"
     ]
    }
   ],
   "source": [
    "from llama_index.core import VectorStoreIndex, get_response_synthesizer,load_index_from_storage,StorageContext,Document\n",
    "from llama_index.core.retrievers import VectorIndexRetriever\n",
    "from llama_index.core.query_engine import RetrieverQueryEngine\n",
    "from llama_index.core.response_synthesizers.type import ResponseMode\n",
    "from llama_index.embeddings.huggingface import HuggingFaceEmbedding\n",
    "from llama_index.llms.openai_like import OpenAILike\n",
    "from transformers import AutoTokenizer\n",
    "from llama_index.core import Settings\n",
    "from llama_index.core.node_parser import SimpleFileNodeParser,TokenTextSplitter\n",
    "from pathlib import Path\n",
    "from llama_index.readers.file import FlatReader\n",
    "from pythainlp.tokenize import sent_tokenize\n",
    "\n",
    "embed_model = HuggingFaceEmbedding(model_name=\"intfloat/multilingual-e5-large\",device='cpu')\n",
    "\n",
    "tokenizer = AutoTokenizer.from_pretrained(\"SeaLLMs/SeaLLM-7B-v2\").encode\n",
    "custom_api = 'float16-56hBpTpGA5VYSs13Awe9U1FjGaTo5pNODx67cnI066EBP5rewr'\n",
    "custom_url = 'https://api.float16.cloud/v1/llamaindex/'\n",
    "llm = OpenAILike(api_base=custom_url,\n",
    "                 api_key=custom_api,\n",
    "                 max_tokens=512,\n",
    "                 model='SeaLLM-7b-v2',\n",
    "                 api_version='v1',\n",
    "                 )\n",
    "embed_model = HuggingFaceEmbedding(model_name=\"intfloat/multilingual-e5-large\",device='cpu')\n",
    "\n",
    "token_spliter = TokenTextSplitter(\n",
    "    chunk_size=512,\n",
    "    chunk_overlap=64,\n",
    "    tokenizer=tokenizer,\n",
    ")\n",
    "\n",
    "load_index = load_index_from_storage(StorageContext.from_defaults(persist_dir='./localstore/'),embed_model=embed_model)"
   ]
  },
  {
   "cell_type": "code",
   "execution_count": null,
   "id": "627de1e7-cea3-4cb8-8b50-a7501e29a9e2",
   "metadata": {},
   "outputs": [],
   "source": [
    "retrieval_engine = load_index.as_retriever(similarity_top_k = 1)\n",
    "nodes = token_spliter.get_nodes_from_documents(docs)\n",
    "responseEmbed = retrieval_engine.retrieve(\"\")\n",
    "OutEmbed = responseEmbed[0].text\n",
    "f = open(\"demo.txt\", \"w\", encoding='utf8')\n",
    "f.write(OutEmbed)\n",
    "f.close()\n",
    "docs = FlatReader().load_data(Path(\"./demo.txt\"))\n",
    "print(docs)\n",
    "nodes = token_spliter.get_nodes_from_documents(docs)\n",
    "#nodes = token_spliter.get_nodes_from_documents(text_parser.get_nodes_from_documents(docs)) \n",
    "print(nodes)"
   ]
  },
  {
   "cell_type": "code",
   "execution_count": 4,
   "id": "c0e2707e-8e73-4891-bcec-9c7f389ec1e0",
   "metadata": {},
   "outputs": [
    {
     "name": "stdout",
     "output_type": "stream",
     "text": [
      "<llama_index.core.indices.vector_store.base.VectorStoreIndex object at 0x0000024645A90860>\n"
     ]
    }
   ],
   "source": [
    "Settings.embed_model = embed_model\n",
    "Settings.llm = llm\n",
    "Settings.context_window = 4000 \n",
    "Settings.tokenizer = tokenizer\n",
    "Settings.num_output = 512\n",
    "response_synthesizer = get_response_synthesizer(\n",
    "      response_mode=\"simple_summarize\" \n",
    ")\n",
    "index = VectorStoreIndex(nodes)\n",
    "print(index)\n",
    "query_engine = index.as_query_engine(\n",
    "    llm=llm,\n",
    "    response_synthesizer = response_synthesizer)\n",
    "\n",
    "responseLLm = query_engine.query(\"<summarization_query_thai>\")"
   ]
  },
  {
   "cell_type": "code",
   "execution_count": 5,
   "id": "f2865aa1-8b69-4af5-a50e-fc37281f00ca",
   "metadata": {},
   "outputs": [
    {
     "name": "stdout",
     "output_type": "stream",
     "text": [
      "อุเทสิกเจดีย์เป็นสิ่งที่เนื่องด้วยพระตถาคต ไม่ใช่วัตถุใดๆ ที่ปรากฏให้เห็น แต่เป็นสิ่งที่เนื่องด้วยพระตถาคตที่แสดงธรรมหรือการยกขึ้นของสิ่งใดสิ่งหนึ่งให้เห็นถึงความเป็นพระสัมมาสัมพุทธะ ในทางไตรรัตน์ไตรลักษณ์ อุเทสิกเจดีย์หมายถึงการบูชาพระรัตนตรัย ซึ่งรวมถึงพระพุทธ พระธรรม และพระสงฆ์ นอกจากนี้ยังรวมถึงการบูชาบุคคลผู้แสดงธรรมด้วย การบูชาอุเทสิกเจดีย์เป็นการบูชาพระรัตนตรัยและการบูชาพระธรรม ซึ่งเป็นการบูชาพระพุทธเจ้าและการแสดงธรรม\n"
     ]
    }
   ],
   "source": [
    "print(responseLLm)"
   ]
  }
 ],
 "metadata": {
  "kernelspec": {
   "display_name": "Python 3 (ipykernel)",
   "language": "python",
   "name": "python3"
  },
  "language_info": {
   "codemirror_mode": {
    "name": "ipython",
    "version": 3
   },
   "file_extension": ".py",
   "mimetype": "text/x-python",
   "name": "python",
   "nbconvert_exporter": "python",
   "pygments_lexer": "ipython3",
   "version": "3.12.2"
  }
 },
 "nbformat": 4,
 "nbformat_minor": 5
}
