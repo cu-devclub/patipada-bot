{
 "cells": [
  {
   "cell_type": "code",
   "execution_count": null,
   "id": "3ac408c5",
   "metadata": {},
   "outputs": [],
   "source": [
    "from llama_index.core import StorageContext,load_index_from_storage\n",
    "from llama_index.core import get_response_synthesizer\n",
    "from llama_index.embeddings.huggingface import HuggingFaceEmbedding\n",
    "from llama_index.llms.openai_like import OpenAILike\n",
    "from llama_index.core import Settings\n",
    "from transformers import AutoTokenizer\n",
    "\n",
    "custom_api = 'float16-56hBpTpGA5VYSs13Awe9U1FjGaTo5pNODx67cnI066EBP5rewr'\n",
    "custom_url = 'https://api.float16.cloud/v1/llamaindex/'\n",
    "tokenizer = AutoTokenizer.from_pretrained(\"SeaLLMs/SeaLLM-7B-v2\").encode\n",
    "llm = OpenAILike(api_base=custom_url,\n",
    "                 api_key=custom_api,\n",
    "                 max_tokens=512,\n",
    "                 model='SeaLLM-7b-v2',\n",
    "                 api_version='v1',\n",
    "                 )\n",
    "\n",
    "embed_model = HuggingFaceEmbedding(model_name=\"intfloat/multilingual-e5-large\",device='cpu')\n",
    "index = load_index_from_storage(StorageContext.from_defaults(persist_dir='./localstore/'),embed_model=embed_model)"
   ]
  },
  {
   "cell_type": "code",
   "execution_count": null,
   "id": "fbdd886a",
   "metadata": {},
   "outputs": [],
   "source": [
    "retrieval_engine = index.as_retriever(similarity_top_k = 1)\n",
    "responseEmbed = retrieval_engine.retrieve(\"อุเทสิกเจดีย์คืออะไร\")\n",
    "OutEmbed = responseEmbed[0].text\n",
    "print(OutEmbed)"
   ]
  },
  {
   "cell_type": "code",
   "execution_count": null,
   "id": "d2bcd337",
   "metadata": {},
   "outputs": [],
   "source": [
    "Settings.embed_model = embed_model\n",
    "Settings.llm = llm\n",
    "Settings.context_window = 4000 \n",
    "Settings.tokenizer = tokenizer\n",
    "Settings.num_output = 512\n",
    "response_synthesizer = get_response_synthesizer(\n",
    "      response_mode=\"simple_summarize\"\n",
    ")\n",
    "\n",
    "query_engine = index.as_query_engine(\n",
    "    llm=llm,\n",
    "    similarity_top_k = 1,\n",
    "    response_synthesizer = response_synthesizer)\n",
    "response = query_engine.query(\"<summarization_query_thai>\")"
   ]
  },
  {
   "cell_type": "code",
   "execution_count": null,
   "id": "262427c5",
   "metadata": {},
   "outputs": [],
   "source": [
    "print(response)"
   ]
  }
 ],
 "metadata": {
  "kernelspec": {
   "display_name": "Python 3 (ipykernel)",
   "language": "python",
   "name": "python3"
  },
  "language_info": {
   "codemirror_mode": {
    "name": "ipython",
    "version": 3
   },
   "file_extension": ".py",
   "mimetype": "text/x-python",
   "name": "python",
   "nbconvert_exporter": "python",
   "pygments_lexer": "ipython3",
   "version": "3.12.2"
  }
 },
 "nbformat": 4,
 "nbformat_minor": 5
}
