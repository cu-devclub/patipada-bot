{
 "cells": [
  {
   "cell_type": "code",
   "execution_count": 4,
   "id": "72ebcb56-c55c-4ea1-98d9-06501fc17d71",
   "metadata": {},
   "outputs": [],
   "source": [
    "from llama_index.core import VectorStoreIndex, get_response_synthesizer,load_index_from_storage,StorageContext,Document\n",
    "from llama_index.core.retrievers import VectorIndexRetriever\n",
    "from llama_index.core.query_engine import RetrieverQueryEngine\n",
    "from llama_index.core.response_synthesizers.type import ResponseMode\n",
    "from llama_index.embeddings.huggingface import HuggingFaceEmbedding\n",
    "from llama_index.llms.openai_like import OpenAILike\n",
    "from transformers import AutoTokenizer\n",
    "from llama_index.core import Settings\n",
    "from llama_index.core.node_parser import SimpleFileNodeParser,TokenTextSplitter\n",
    "from pathlib import Path\n",
    "from llama_index.readers.file import FlatReader\n",
    "from pythainlp.tokenize import sent_tokenize\n",
    "\n",
    "embed_model = HuggingFaceEmbedding(model_name=\"intfloat/multilingual-e5-small\",device='cpu')\n",
    "\n",
    "tokenizer = AutoTokenizer.from_pretrained(\"SeaLLMs/SeaLLM-7B-v2\").encode\n",
    "custom_api = 'float16-56hBpTpGA5VYSs13Awe9U1FjGaTo5pNODx67cnI066EBP5rewr'\n",
    "custom_url = 'https://api.float16.cloud/v1/llamaindex/'\n",
    "llm = OpenAILike(api_base=custom_url,\n",
    "                 api_key=custom_api,\n",
    "                 max_tokens=512,\n",
    "                 model='SeaLLM-7b-v2',\n",
    "                 api_version='v1',\n",
    "                 )\n",
    "\n",
    "load_index = load_index_from_storage(StorageContext.from_defaults(persist_dir='C:/Users/sukpi/Lecture-vector-database/localvecstore/'),embed_model=embed_model)"
   ]
  },
  {
   "cell_type": "code",
   "execution_count": 9,
   "id": "627de1e7-cea3-4cb8-8b50-a7501e29a9e2",
   "metadata": {},
   "outputs": [
    {
     "name": "stdout",
     "output_type": "stream",
     "text": [
      "[Document(id_='84b73ec8-2422-4439-8c3b-9950e7f4e01e', embedding=None, metadata={'filename': 'demo.txt', 'extension': '.txt'}, excluded_embed_metadata_keys=[], excluded_llm_metadata_keys=[], relationships={}, text='เคยได้ยินว่าสถานที่ที่มีพระธาตุเจดีย์จะมีพระสารีลีกธาตุมาสถิตอยู่อยากทราบว่ามีจริงไหมเจ้าคะและจะมาสถิตโดยวิธีใดเจ้าคะมีหลายท่านสงสัยเช่นกันเจ้าค่ะ', start_char_idx=None, end_char_idx=None, text_template='{metadata_str}\\n\\n{content}', metadata_template='{key}: {value}', metadata_seperator='\\n')]\n"
     ]
    }
   ],
   "source": [
    "from llama_index.core.schema import TextNode\n",
    "retrieval_engine = load_index.as_retriever(similarity_top_k = 1)\n",
    "responseEmbed = retrieval_engine.retrieve(\"อุเทสิกเจดีย์คืออะไร\")\n",
    "OutEmbed = responseEmbed[0].text\n",
    "f = open(\"demo.txt\", \"w\", encoding='utf8')\n",
    "f.write(OutEmbed)\n",
    "f.close()\n",
    "docs = FlatReader().load_data(Path(\"./demo.txt\"))\n",
    "print(docs)\n",
    "#nodes = TextNode(text=text[i], id_=i)\n",
    "#nodes = token_spliter.get_nodes_from_documents(docs)\n",
    "#nodes = token_spliter.get_nodes_from_documents(text_parser.get_nodes_from_documents(docs)) \n",
    "#print(nodes)"
   ]
  },
  {
   "cell_type": "code",
   "execution_count": 4,
   "id": "c0e2707e-8e73-4891-bcec-9c7f389ec1e0",
   "metadata": {},
   "outputs": [
    {
     "name": "stdout",
     "output_type": "stream",
     "text": [
      "<llama_index.core.indices.vector_store.base.VectorStoreIndex object at 0x0000024645A90860>\n"
     ]
    }
   ],
   "source": [
    "Settings.embed_model = embed_model\n",
    "Settings.llm = llm\n",
    "Settings.context_window = 4000 \n",
    "Settings.tokenizer = tokenizer\n",
    "Settings.num_output = 512\n",
    "response_synthesizer = get_response_synthesizer(\n",
    "      response_mode=\"simple_summarize\" \n",
    ")\n",
    "index = VectorStoreIndex(nodes)\n",
    "print(index)\n",
    "query_engine = index.as_query_engine(\n",
    "    llm=llm,\n",
    "    response_synthesizer = response_synthesizer)\n",
    "\n",
    "responseLLm = query_engine.query(\"<summarization_query_thai>\")"
   ]
  },
  {
   "cell_type": "code",
   "execution_count": 5,
   "id": "f2865aa1-8b69-4af5-a50e-fc37281f00ca",
   "metadata": {},
   "outputs": [
    {
     "name": "stdout",
     "output_type": "stream",
     "text": [
      "อุเทสิกเจดีย์เป็นสิ่งที่เนื่องด้วยพระตถาคต ไม่ใช่วัตถุใดๆ ที่ปรากฏให้เห็น แต่เป็นสิ่งที่เนื่องด้วยพระตถาคตที่แสดงธรรมหรือการยกขึ้นของสิ่งใดสิ่งหนึ่งให้เห็นถึงความเป็นพระสัมมาสัมพุทธะ ในทางไตรรัตน์ไตรลักษณ์ อุเทสิกเจดีย์หมายถึงการบูชาพระรัตนตรัย ซึ่งรวมถึงพระพุทธ พระธรรม และพระสงฆ์ นอกจากนี้ยังรวมถึงการบูชาบุคคลผู้แสดงธรรมด้วย การบูชาอุเทสิกเจดีย์เป็นการบูชาพระรัตนตรัยและการบูชาพระธรรม ซึ่งเป็นการบูชาพระพุทธเจ้าและการแสดงธรรม\n"
     ]
    }
   ],
   "source": [
    "print(responseLLm)"
   ]
  }
 ],
 "metadata": {
  "kernelspec": {
   "display_name": "Python 3 (ipykernel)",
   "language": "python",
   "name": "python3"
  },
  "language_info": {
   "codemirror_mode": {
    "name": "ipython",
    "version": 3
   },
   "file_extension": ".py",
   "mimetype": "text/x-python",
   "name": "python",
   "nbconvert_exporter": "python",
   "pygments_lexer": "ipython3",
   "version": "3.12.2"
  }
 },
 "nbformat": 4,
 "nbformat_minor": 5
}
